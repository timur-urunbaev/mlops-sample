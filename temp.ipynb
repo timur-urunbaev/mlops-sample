{
 "cells": [
  {
   "cell_type": "code",
   "execution_count": 1,
   "metadata": {},
   "outputs": [],
   "source": [
    "import polars as pl\n",
    "\n",
    "from imblearn.over_sampling import SMOTE\n",
    "\n",
    "from sklearn.model_selection import train_test_split\n",
    "from sklearn.ensemble import RandomForestClassifier\n",
    "from sklearn.metrics import accuracy_score, classification_report\n",
    "from sklearn.preprocessing import LabelEncoder"
   ]
  },
  {
   "cell_type": "code",
   "execution_count": 2,
   "metadata": {},
   "outputs": [],
   "source": [
    "ratings = pl.read_csv('mlflow/ml-100k/u.data', separator='\\t', has_header=False, new_columns=['user_id', 'item_id', 'rating', 'timestamp'])\n",
    "users = pl.read_csv('mlflow/ml-100k/u.user', separator='|', has_header=False, new_columns=['user_id', 'age', 'gender', 'occupation', 'zip_code'])\n",
    "movies = pl.read_csv('mlflow/ml-100k/u.item', separator='|', has_header=False, encoding='latin-1', new_columns=[\n",
    "    'item_id', 'title', 'release_date', 'video_release_date', 'IMDb_URL', \n",
    "    'unknown', 'Action', 'Adventure', 'Animation', 'Children\\'s', 'Comedy', \n",
    "    'Crime', 'Documentary', 'Drama', 'Fantasy', 'Film-Noir', 'Horror', 'Musical', \n",
    "    'Mystery', 'Romance', 'Sci-Fi', 'Thriller', 'War', 'Western'\n",
    "])\n",
    "\n",
    "data = ratings.join(users, on='user_id').join(movies, on='item_id')\n",
    "\n",
    "data = data.with_columns((data['rating'] == 5).cast(pl.Int32).alias('is_rating_5'))\n",
    "\n",
    "data = data.drop(['video_release_date'])\n",
    "data = data.drop_nulls()\n",
    "\n",
    "feature_columns = ['age', 'gender', 'occupation'] + movies.columns[5:]\n",
    "X = data.select(feature_columns)\n",
    "y = data['is_rating_5']\n",
    "\n",
    "# Encode categorical variables\n",
    "le_gender = LabelEncoder()\n",
    "X = X.with_columns(pl.Series('gender', le_gender.fit_transform(X['gender'].to_list())))\n",
    "\n",
    "le_occupation = LabelEncoder()\n",
    "X = X.with_columns(pl.Series('occupation', le_occupation.fit_transform(X['occupation'].to_list())))\n",
    "\n",
    "# Convert Polars DataFrames to NumPy arrays for sklearn\n",
    "X_np = X.to_numpy()\n",
    "y_np = y.to_numpy()\n",
    "\n",
    "# Split data into train and test sets\n",
    "X_train, X_test, y_train, y_test = train_test_split(X_np, y_np, test_size=0.2, random_state=42, stratify=y_np)\n",
    "\n",
    "sm = SMOTE(random_state=42)\n",
    "X_resampled, y_resampled = sm.fit_resample(X_train, y_train)"
   ]
  },
  {
   "cell_type": "code",
   "execution_count": 13,
   "metadata": {},
   "outputs": [
    {
     "data": {
      "text/plain": [
       "'\"{\\\\\"age\\\\\":{\\\\\"0\\\\\":19},\\\\\"gender\\\\\":{\\\\\"0\\\\\":0},\\\\\"occupation\\\\\":{\\\\\"0\\\\\":18},\\\\\"unknown\\\\\":{\\\\\"0\\\\\":0},\\\\\"Action\\\\\":{\\\\\"0\\\\\":0},\\\\\"Adventure\\\\\":{\\\\\"0\\\\\":0},\\\\\"Animation\\\\\":{\\\\\"0\\\\\":0},\\\\\"Children\\'s\\\\\":{\\\\\"0\\\\\":0},\\\\\"Comedy\\\\\":{\\\\\"0\\\\\":1},\\\\\"Crime\\\\\":{\\\\\"0\\\\\":0},\\\\\"Documentary\\\\\":{\\\\\"0\\\\\":0},\\\\\"Drama\\\\\":{\\\\\"0\\\\\":0},\\\\\"Fantasy\\\\\":{\\\\\"0\\\\\":0},\\\\\"Film-Noir\\\\\":{\\\\\"0\\\\\":0},\\\\\"Horror\\\\\":{\\\\\"0\\\\\":0},\\\\\"Musical\\\\\":{\\\\\"0\\\\\":0},\\\\\"Mystery\\\\\":{\\\\\"0\\\\\":0},\\\\\"Romance\\\\\":{\\\\\"0\\\\\":1},\\\\\"Sci-Fi\\\\\":{\\\\\"0\\\\\":0},\\\\\"Thriller\\\\\":{\\\\\"0\\\\\":0},\\\\\"War\\\\\":{\\\\\"0\\\\\":0},\\\\\"Western\\\\\":{\\\\\"0\\\\\":0}}\"'"
      ]
     },
     "execution_count": 13,
     "metadata": {},
     "output_type": "execute_result"
    }
   ],
   "source": [
    "import json\n",
    "\n",
    "data_dict = X.sample(n=1).to_pandas().to_json()\n",
    "json.dumps(data_dict)"
   ]
  }
 ],
 "metadata": {
  "kernelspec": {
   "display_name": "mlflow_test",
   "language": "python",
   "name": "python3"
  },
  "language_info": {
   "codemirror_mode": {
    "name": "ipython",
    "version": 3
   },
   "file_extension": ".py",
   "mimetype": "text/x-python",
   "name": "python",
   "nbconvert_exporter": "python",
   "pygments_lexer": "ipython3",
   "version": "3.8.20"
  }
 },
 "nbformat": 4,
 "nbformat_minor": 2
}
