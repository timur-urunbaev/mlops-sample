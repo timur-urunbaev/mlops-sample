{
 "cells": [
  {
   "cell_type": "code",
   "execution_count": 1,
   "metadata": {
    "id": "vZcP6ClFRytN"
   },
   "outputs": [],
   "source": [
    "import polars as pl\n",
    "\n",
    "from imblearn.over_sampling import SMOTE\n",
    "\n",
    "from sklearn.ensemble import RandomForestClassifier\n",
    "from sklearn.metrics import accuracy_score, classification_report\n",
    "from sklearn.preprocessing import LabelEncoder"
   ]
  },
  {
   "cell_type": "code",
   "execution_count": 2,
   "metadata": {
    "id": "nu41liB-Ryl-"
   },
   "outputs": [],
   "source": [
    "# Reading data\n",
    "movie_columns = [\"item_id\", \"movie_title\", \"release_date\", \"video_release_date\", \"IMDb_URL\"] + [f\"genre_{i}\" for i in range(19)]\n",
    "\n",
    "ratings = pl.read_csv(\n",
    "    'ml-100k/u.data',\n",
    "    separator='\\t',\n",
    "    has_header=False,\n",
    "    new_columns=['user_id', 'item_id', 'rating', 'timestamp']\n",
    ")\n",
    "\n",
    "movies = pl.read_csv(\n",
    "    'ml-100k/u.item',\n",
    "    separator=\"|\",\n",
    "    has_header=False,\n",
    "    new_columns=movie_columns,\n",
    "    encoding=\"cp1251\",\n",
    "    ignore_errors=True\n",
    ")\n",
    "\n",
    "\n",
    "users = pl.read_csv(\n",
    "    'ml-100k/u.user',\n",
    "    separator='|',\n",
    "    has_header=False,\n",
    "    new_columns=['user_id', 'age', 'gender', 'occupation', 'zip_code'],\n",
    "    encoding=\"cp1251\",\n",
    "    ignore_errors=True\n",
    ")\n"
   ]
  },
  {
   "cell_type": "code",
   "execution_count": 4,
   "metadata": {
    "colab": {
     "base_uri": "https://localhost:8080/"
    },
    "id": "LY4pVHkrTdty",
    "outputId": "9f5d9d1c-ec97-4e8c-d1cb-ea6efebe95c9"
   },
   "outputs": [
    {
     "name": "stdout",
     "output_type": "stream",
     "text": [
      "shape: (5, 31)\n",
      "┌─────────┬─────────┬────────┬───────────┬───┬────────┬────────────┬──────────┬────────┐\n",
      "│ user_id ┆ item_id ┆ rating ┆ timestamp ┆ … ┆ gender ┆ occupation ┆ zip_code ┆ target │\n",
      "│ ---     ┆ ---     ┆ ---    ┆ ---       ┆   ┆ ---    ┆ ---        ┆ ---      ┆ ---    │\n",
      "│ i64     ┆ i64     ┆ i64    ┆ i64       ┆   ┆ i64    ┆ i64        ┆ str      ┆ i32    │\n",
      "╞═════════╪═════════╪════════╪═══════════╪═══╪════════╪════════════╪══════════╪════════╡\n",
      "│ 196     ┆ 242     ┆ 3      ┆ 881250949 ┆ … ┆ 1      ┆ 20         ┆ 55105    ┆ 0      │\n",
      "│ 186     ┆ 302     ┆ 3      ┆ 891717742 ┆ … ┆ 0      ┆ 6          ┆ 00000    ┆ 0      │\n",
      "│ 22      ┆ 377     ┆ 1      ┆ 878887116 ┆ … ┆ 1      ┆ 20         ┆ 40206    ┆ 0      │\n",
      "│ 244     ┆ 51      ┆ 2      ┆ 880606923 ┆ … ┆ 1      ┆ 19         ┆ 80525    ┆ 0      │\n",
      "│ 166     ┆ 346     ┆ 1      ┆ 886397596 ┆ … ┆ 1      ┆ 3          ┆ 55113    ┆ 0      │\n",
      "└─────────┴─────────┴────────┴───────────┴───┴────────┴────────────┴──────────┴────────┘\n"
     ]
    }
   ],
   "source": [
    "# Join the ratings and movies data on 'movie_id'\n",
    "ratings_with_titles = ratings.join(movies, on=\"item_id\")\n",
    "dataset = ratings_with_titles.join(users, on='user_id')\n",
    "\n",
    "# Modifying target\n",
    "dataset = dataset.with_columns(\n",
    "    pl.when(pl.col('rating') == 5)\n",
    "    .then(1)\n",
    "    .otherwise(0)\n",
    "    .alias(\"target\")\n",
    ")\n",
    "\n",
    "# Drop column\n",
    "dataset = dataset.drop(['video_release_date'])\n",
    "\n",
    "# Drop NA values\n",
    "dataset = dataset.drop_nulls()\n",
    "\n",
    "# Encode with LabelEncoder\n",
    "le_gender = LabelEncoder()\n",
    "le_occupation = LabelEncoder()\n",
    "\n",
    "dataset = dataset.with_columns([\n",
    "    pl.Series(\"gender\", le_gender.fit_transform(dataset[\"gender\"].to_list())),\n",
    "    pl.Series(\"occupation\", le_occupation.fit_transform(dataset[\"occupation\"].to_list()))\n",
    "])\n",
    "\n",
    "# Show the result\n",
    "print(dataset.head())"
   ]
  },
  {
   "cell_type": "code",
   "execution_count": 5,
   "metadata": {
    "id": "OHGeFz-rOsJR"
   },
   "outputs": [],
   "source": [
    "train_columns = ['timestamp', 'age', 'gender', 'occupation', 'target'] + [f\"genre_{i}\" for i in range(19)]\n",
    "dataset = dataset[train_columns]\n",
    "# dataset['timestamp'].is_null()"
   ]
  },
  {
   "cell_type": "code",
   "execution_count": 6,
   "metadata": {
    "id": "HqdbrpgKTdq2"
   },
   "outputs": [],
   "source": [
    "# возьмем последние 5% по времени в качестве отложенной выборки\n",
    "# все что до этого момента, будем использовать для обучения модели\n",
    "ts_threshold = dataset['timestamp'].quantile(0.95)\n",
    "train = dataset.filter(pl.col('timestamp') < ts_threshold)\n",
    "test = dataset.filter(pl.col('timestamp') >= ts_threshold)\n",
    "\n",
    "X_train, y_train = train.select(pl.exclude('target')), train['target']\n",
    "X_test, y_test = test.select(pl.exclude('target')), test['target']\n",
    "\n",
    "sm = SMOTE(random_state=42)\n",
    "X_resampled, y_resampled = sm.fit_resample(X_train.to_pandas(), y_train.to_pandas())"
   ]
  },
  {
   "cell_type": "markdown",
   "metadata": {
    "id": "ofX9HhUUVSMx"
   },
   "source": [
    "### Результаты по исследованию данных\n",
    "1. Классовый имбаланс `class_imbalance`\n",
    "2. Null в данных\n",
    "3."
   ]
  },
  {
   "cell_type": "code",
   "execution_count": 7,
   "metadata": {
    "id": "L8WYkE3hzW_L"
   },
   "outputs": [],
   "source": [
    "# Initialize and train the classifier\n",
    "clf = RandomForestClassifier(n_estimators=100, random_state=42)\n",
    "clf.fit(X_resampled, y_resampled)\n",
    "\n",
    "# Make predictions\n",
    "y_pred = clf.predict(X_test)"
   ]
  },
  {
   "cell_type": "code",
   "execution_count": 8,
   "metadata": {
    "colab": {
     "base_uri": "https://localhost:8080/"
    },
    "id": "qxlS1TYqzT6f",
    "outputId": "449f9861-e68c-4f1b-9dbf-c2ff7475962d"
   },
   "outputs": [
    {
     "name": "stdout",
     "output_type": "stream",
     "text": [
      "Accuracy: 0.61\n",
      "Classification Report:\n",
      "              precision    recall  f1-score   support\n",
      "\n",
      "           0       0.73      0.74      0.74      3657\n",
      "           1       0.27      0.26      0.27      1343\n",
      "\n",
      "    accuracy                           0.61      5000\n",
      "   macro avg       0.50      0.50      0.50      5000\n",
      "weighted avg       0.61      0.61      0.61      5000\n",
      "\n"
     ]
    }
   ],
   "source": [
    "# Evaluate the model\n",
    "accuracy = accuracy_score(y_test, y_pred)\n",
    "report = classification_report(y_test, y_pred)\n",
    "\n",
    "print(f\"Accuracy: {accuracy:.2f}\")\n",
    "print(\"Classification Report:\")\n",
    "print(report)"
   ]
  },
  {
   "cell_type": "code",
   "execution_count": null,
   "metadata": {
    "id": "SlC-ac-ytuYq"
   },
   "outputs": [],
   "source": []
  }
 ],
 "metadata": {
  "colab": {
   "provenance": []
  },
  "kernelspec": {
   "display_name": "mlflow_test",
   "language": "python",
   "name": "python3"
  },
  "language_info": {
   "codemirror_mode": {
    "name": "ipython",
    "version": 3
   },
   "file_extension": ".py",
   "mimetype": "text/x-python",
   "name": "python",
   "nbconvert_exporter": "python",
   "pygments_lexer": "ipython3",
   "version": "3.8.20"
  }
 },
 "nbformat": 4,
 "nbformat_minor": 0
}
